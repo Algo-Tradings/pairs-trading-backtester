{
 "cells": [
  {
   "cell_type": "code",
   "execution_count": 2,
   "metadata": {},
   "outputs": [
    {
     "name": "stdout",
     "output_type": "stream",
     "text": [
      "Using matplotlib backend: TkAgg\n"
     ]
    }
   ],
   "source": [
    "%matplotlib\n",
    "\n",
    "import pandas as pd\n",
    "import os\n",
    "from backtesting import Updater\n",
    "# import talib\n",
    "from binance import Client\n",
    "from sklearn.preprocessing import MinMaxScaler \n",
    "# from settings import key, secret\n",
    "import backtrader as bt \n",
    "client = Client()\n"
   ]
  },
  {
   "cell_type": "code",
   "execution_count": 3,
   "metadata": {},
   "outputs": [],
   "source": [
    "all_data = Updater()\n",
    "# all_data.update_all_data()\n",
    "all_data.get_all_data(min_correlation=0.83)"
   ]
  },
  {
   "cell_type": "code",
   "execution_count": 4,
   "metadata": {},
   "outputs": [
    {
     "data": {
      "text/html": [
       "<div>\n",
       "<style scoped>\n",
       "    .dataframe tbody tr th:only-of-type {\n",
       "        vertical-align: middle;\n",
       "    }\n",
       "\n",
       "    .dataframe tbody tr th {\n",
       "        vertical-align: top;\n",
       "    }\n",
       "\n",
       "    .dataframe thead th {\n",
       "        text-align: right;\n",
       "    }\n",
       "</style>\n",
       "<table border=\"1\" class=\"dataframe\">\n",
       "  <thead>\n",
       "    <tr style=\"text-align: right;\">\n",
       "      <th></th>\n",
       "      <th>Currency1</th>\n",
       "      <th>Currency2</th>\n",
       "      <th>Correlation</th>\n",
       "      <th>Cointegration</th>\n",
       "      <th>Criticals</th>\n",
       "      <th>Ratio</th>\n",
       "    </tr>\n",
       "  </thead>\n",
       "  <tbody>\n",
       "    <tr>\n",
       "      <th>15</th>\n",
       "      <td>MANAUSDT</td>\n",
       "      <td>SANDUSDT</td>\n",
       "      <td>0.894680</td>\n",
       "      <td>-4.181753</td>\n",
       "      <td>-3.926781</td>\n",
       "      <td>0.851756</td>\n",
       "    </tr>\n",
       "    <tr>\n",
       "      <th>10</th>\n",
       "      <td>ARDRUSDT</td>\n",
       "      <td>WAXPUSDT</td>\n",
       "      <td>0.882577</td>\n",
       "      <td>-4.087809</td>\n",
       "      <td>-3.926781</td>\n",
       "      <td>1.150877</td>\n",
       "    </tr>\n",
       "    <tr>\n",
       "      <th>0</th>\n",
       "      <td>IOTAUSDT</td>\n",
       "      <td>ENJUSDT</td>\n",
       "      <td>0.861487</td>\n",
       "      <td>-5.263174</td>\n",
       "      <td>-3.926781</td>\n",
       "      <td>0.558943</td>\n",
       "    </tr>\n",
       "    <tr>\n",
       "      <th>16</th>\n",
       "      <td>TLMUSDT</td>\n",
       "      <td>SLPUSDT</td>\n",
       "      <td>0.851384</td>\n",
       "      <td>-5.612896</td>\n",
       "      <td>-3.926781</td>\n",
       "      <td>6.904762</td>\n",
       "    </tr>\n",
       "    <tr>\n",
       "      <th>6</th>\n",
       "      <td>ENJUSDT</td>\n",
       "      <td>WAXPUSDT</td>\n",
       "      <td>0.851237</td>\n",
       "      <td>-5.943331</td>\n",
       "      <td>-3.926781</td>\n",
       "      <td>5.486550</td>\n",
       "    </tr>\n",
       "    <tr>\n",
       "      <th>7</th>\n",
       "      <td>IOTXUSDT</td>\n",
       "      <td>ALICEUSDT</td>\n",
       "      <td>0.845830</td>\n",
       "      <td>-4.356646</td>\n",
       "      <td>-3.926781</td>\n",
       "      <td>0.015256</td>\n",
       "    </tr>\n",
       "    <tr>\n",
       "      <th>11</th>\n",
       "      <td>STMXUSDT</td>\n",
       "      <td>WAXPUSDT</td>\n",
       "      <td>0.843693</td>\n",
       "      <td>-7.797118</td>\n",
       "      <td>-3.926781</td>\n",
       "      <td>0.082643</td>\n",
       "    </tr>\n",
       "    <tr>\n",
       "      <th>8</th>\n",
       "      <td>IOTXUSDT</td>\n",
       "      <td>TLMUSDT</td>\n",
       "      <td>0.843554</td>\n",
       "      <td>-4.933398</td>\n",
       "      <td>-3.926781</td>\n",
       "      <td>1.233621</td>\n",
       "    </tr>\n",
       "    <tr>\n",
       "      <th>1</th>\n",
       "      <td>IOTAUSDT</td>\n",
       "      <td>ZENUSDT</td>\n",
       "      <td>0.838651</td>\n",
       "      <td>-4.557677</td>\n",
       "      <td>-3.926781</td>\n",
       "      <td>0.019153</td>\n",
       "    </tr>\n",
       "    <tr>\n",
       "      <th>14</th>\n",
       "      <td>ZENUSDT</td>\n",
       "      <td>ALICEUSDT</td>\n",
       "      <td>0.837720</td>\n",
       "      <td>-4.052619</td>\n",
       "      <td>-3.926781</td>\n",
       "      <td>7.297441</td>\n",
       "    </tr>\n",
       "    <tr>\n",
       "      <th>12</th>\n",
       "      <td>STMXUSDT</td>\n",
       "      <td>POWRUSDT</td>\n",
       "      <td>0.836410</td>\n",
       "      <td>-4.159507</td>\n",
       "      <td>-3.926781</td>\n",
       "      <td>0.034825</td>\n",
       "    </tr>\n",
       "    <tr>\n",
       "      <th>13</th>\n",
       "      <td>COMPUSDT</td>\n",
       "      <td>AAVEUSDT</td>\n",
       "      <td>0.836330</td>\n",
       "      <td>-4.419708</td>\n",
       "      <td>-3.926781</td>\n",
       "      <td>0.627552</td>\n",
       "    </tr>\n",
       "    <tr>\n",
       "      <th>5</th>\n",
       "      <td>ENJUSDT</td>\n",
       "      <td>CHRUSDT</td>\n",
       "      <td>0.835008</td>\n",
       "      <td>-4.631165</td>\n",
       "      <td>-3.926781</td>\n",
       "      <td>2.770821</td>\n",
       "    </tr>\n",
       "    <tr>\n",
       "      <th>2</th>\n",
       "      <td>IOTAUSDT</td>\n",
       "      <td>WAXPUSDT</td>\n",
       "      <td>0.834444</td>\n",
       "      <td>-5.332676</td>\n",
       "      <td>-3.926781</td>\n",
       "      <td>3.066667</td>\n",
       "    </tr>\n",
       "    <tr>\n",
       "      <th>9</th>\n",
       "      <td>ARDRUSDT</td>\n",
       "      <td>STMXUSDT</td>\n",
       "      <td>0.834124</td>\n",
       "      <td>-3.980011</td>\n",
       "      <td>-3.926781</td>\n",
       "      <td>13.925842</td>\n",
       "    </tr>\n",
       "    <tr>\n",
       "      <th>4</th>\n",
       "      <td>THETAUSDT</td>\n",
       "      <td>BAKEUSDT</td>\n",
       "      <td>0.832836</td>\n",
       "      <td>-5.448888</td>\n",
       "      <td>-3.926781</td>\n",
       "      <td>4.666667</td>\n",
       "    </tr>\n",
       "    <tr>\n",
       "      <th>3</th>\n",
       "      <td>ICXUSDT</td>\n",
       "      <td>POWRUSDT</td>\n",
       "      <td>0.831471</td>\n",
       "      <td>-4.919995</td>\n",
       "      <td>-3.926781</td>\n",
       "      <td>1.214884</td>\n",
       "    </tr>\n",
       "  </tbody>\n",
       "</table>\n",
       "</div>"
      ],
      "text/plain": [
       "    Currency1  Currency2  Correlation  Cointegration  Criticals      Ratio\n",
       "15   MANAUSDT   SANDUSDT     0.894680      -4.181753  -3.926781   0.851756\n",
       "10   ARDRUSDT   WAXPUSDT     0.882577      -4.087809  -3.926781   1.150877\n",
       "0    IOTAUSDT    ENJUSDT     0.861487      -5.263174  -3.926781   0.558943\n",
       "16    TLMUSDT    SLPUSDT     0.851384      -5.612896  -3.926781   6.904762\n",
       "6     ENJUSDT   WAXPUSDT     0.851237      -5.943331  -3.926781   5.486550\n",
       "7    IOTXUSDT  ALICEUSDT     0.845830      -4.356646  -3.926781   0.015256\n",
       "11   STMXUSDT   WAXPUSDT     0.843693      -7.797118  -3.926781   0.082643\n",
       "8    IOTXUSDT    TLMUSDT     0.843554      -4.933398  -3.926781   1.233621\n",
       "1    IOTAUSDT    ZENUSDT     0.838651      -4.557677  -3.926781   0.019153\n",
       "14    ZENUSDT  ALICEUSDT     0.837720      -4.052619  -3.926781   7.297441\n",
       "12   STMXUSDT   POWRUSDT     0.836410      -4.159507  -3.926781   0.034825\n",
       "13   COMPUSDT   AAVEUSDT     0.836330      -4.419708  -3.926781   0.627552\n",
       "5     ENJUSDT    CHRUSDT     0.835008      -4.631165  -3.926781   2.770821\n",
       "2    IOTAUSDT   WAXPUSDT     0.834444      -5.332676  -3.926781   3.066667\n",
       "9    ARDRUSDT   STMXUSDT     0.834124      -3.980011  -3.926781  13.925842\n",
       "4   THETAUSDT   BAKEUSDT     0.832836      -5.448888  -3.926781   4.666667\n",
       "3     ICXUSDT   POWRUSDT     0.831471      -4.919995  -3.926781   1.214884"
      ]
     },
     "execution_count": 4,
     "metadata": {},
     "output_type": "execute_result"
    }
   ],
   "source": [
    "all_data.final_df"
   ]
  },
  {
   "cell_type": "code",
   "execution_count": 8,
   "metadata": {},
   "outputs": [
    {
     "ename": "ValueError",
     "evalue": "cannot reshape array of size 365 into shape (0,1)",
     "output_type": "error",
     "traceback": [
      "\u001b[1;31m---------------------------------------------------------------------------\u001b[0m",
      "\u001b[1;31mValueError\u001b[0m                                Traceback (most recent call last)",
      "Cell \u001b[1;32mIn[8], line 3\u001b[0m\n\u001b[0;32m      1\u001b[0m df \u001b[39m=\u001b[39m all_data\u001b[39m.\u001b[39museful_df[\u001b[39m'\u001b[39m\u001b[39mMANAUSDT\u001b[39m\u001b[39m'\u001b[39m] \u001b[39m-\u001b[39m all_data\u001b[39m.\u001b[39museful_df[\u001b[39m'\u001b[39m\u001b[39mSANDUSDT\u001b[39m\u001b[39m'\u001b[39m] \u001b[39m*\u001b[39m \u001b[39m0.894680\u001b[39m\n\u001b[0;32m      2\u001b[0m \u001b[39m# df = MinMaxScaler().fit_transform(df.values)\u001b[39;00m\n\u001b[1;32m----> 3\u001b[0m df \u001b[39m=\u001b[39m df\u001b[39m.\u001b[39;49mvalues\u001b[39m.\u001b[39;49mreshape(\u001b[39m0\u001b[39;49m,\u001b[39m1\u001b[39;49m)\n\u001b[0;32m      4\u001b[0m df\n",
      "\u001b[1;31mValueError\u001b[0m: cannot reshape array of size 365 into shape (0,1)"
     ]
    }
   ],
   "source": [
    "df = all_data.useful_df['MANAUSDT'] - all_data.useful_df['SANDUSDT'] * 0.894680\n",
    "# df = MinMaxScaler().fit_transform(df.values)\n",
    "df = df.values.reshape(1,-1)\n",
    "df"
   ]
  },
  {
   "cell_type": "code",
   "execution_count": null,
   "metadata": {},
   "outputs": [
    {
     "data": {
      "text/plain": [
       "[                         Open      High       Low     Close\n",
       " Time                                                       \n",
       " 2022-03-22 00:00:00  0.165341  0.116793  0.159980  0.122366\n",
       " 2022-03-22 04:00:00  0.121847  0.099173  0.094404  0.097849\n",
       " 2022-03-22 08:00:00  0.097316  0.012213  0.073949  0.019588\n",
       " 2022-03-22 12:00:00  0.018483  0.050289  0.016321  0.104886\n",
       " 2022-03-22 16:00:00  0.104387  0.000000  0.042461  0.000000\n",
       " ...                       ...       ...       ...       ...\n",
       " 2023-03-21 00:00:00  0.578777  0.552395  0.596965  0.581573\n",
       " 2023-03-21 04:00:00  0.581339  0.548460  0.598279  0.587442\n",
       " 2023-03-21 08:00:00  0.587242  0.551626  0.604424  0.586022\n",
       " 2023-03-21 12:00:00  0.586349  0.546051  0.600254  0.581255\n",
       " 2023-03-21 16:00:00  0.580494  0.542702  0.589925  0.571050\n",
       " \n",
       " [2189 rows x 4 columns],\n",
       "                          Open      High       Low     Close\n",
       " Time                                                       \n",
       " 2022-03-22 00:00:00  0.274971  0.308707  0.237208  0.289479\n",
       " 2022-03-22 04:00:00  0.289755  0.314963  0.263743  0.310913\n",
       " 2022-03-22 08:00:00  0.315730  0.314308  0.280120  0.306816\n",
       " 2022-03-22 12:00:00  0.310338  0.288180  0.253344  0.271867\n",
       " 2022-03-22 16:00:00  0.274106  0.277198  0.237687  0.273324\n",
       " ...                       ...       ...       ...       ...\n",
       " 2023-03-21 00:00:00  0.192333  0.247673  0.163872  0.204668\n",
       " 2023-03-21 04:00:00  0.206155  0.256670  0.159202  0.192697\n",
       " 2023-03-21 08:00:00  0.191986  0.221034  0.157447  0.153598\n",
       " 2023-03-21 12:00:00  0.155765  0.237057  0.142149  0.190146\n",
       " 2023-03-21 16:00:00  0.191898  0.253533  0.156759  0.193754\n",
       " \n",
       " [2189 rows x 4 columns],\n",
       "                          Open      High       Low     Close\n",
       " Time                                                       \n",
       " 2022-03-22 00:00:00  0.545144  0.541390  0.518238  0.563515\n",
       " 2022-03-22 04:00:00  0.562569  0.571655  0.555544  0.594054\n",
       " 2022-03-22 08:00:00  0.593057  0.563651  0.563482  0.584517\n",
       " 2022-03-22 12:00:00  0.585214  0.571903  0.573896  0.617946\n",
       " 2022-03-22 16:00:00  0.619098  0.610076  0.586539  0.615501\n",
       " ...                       ...       ...       ...       ...\n",
       " 2023-03-21 00:00:00  0.770906  0.752319  0.761440  0.774470\n",
       " 2023-03-21 04:00:00  0.774848  0.748376  0.754636  0.769492\n",
       " 2023-03-21 08:00:00  0.770149  0.748839  0.757386  0.773377\n",
       " 2023-03-21 12:00:00  0.773323  0.761849  0.759465  0.791154\n",
       " 2023-03-21 16:00:00  0.790530  0.764142  0.767853  0.781934\n",
       " \n",
       " [2189 rows x 4 columns],\n",
       "                          Open      High       Low     Close\n",
       " Time                                                       \n",
       " 2022-03-22 00:00:00  0.323166  0.277132  0.313318  0.278314\n",
       " 2022-03-22 04:00:00  0.278196  0.307707  0.301330  0.291566\n",
       " 2022-03-22 08:00:00  0.291531  0.313720  0.286504  0.310849\n",
       " 2022-03-22 12:00:00  0.310811  0.321361  0.312695  0.303910\n",
       " 2022-03-22 16:00:00  0.303883  0.307667  0.301678  0.304813\n",
       " ...                       ...       ...       ...       ...\n",
       " 2023-03-21 00:00:00  0.701135  0.697036  0.690427  0.691580\n",
       " 2023-03-21 04:00:00  0.691512  0.701617  0.680309  0.690382\n",
       " 2023-03-21 08:00:00  0.690313  0.700514  0.677657  0.691566\n",
       " 2023-03-21 12:00:00  0.691497  0.634028  0.664065  0.637755\n",
       " 2023-03-21 16:00:00  0.637701  0.655770  0.643445  0.655838\n",
       " \n",
       " [2189 rows x 4 columns],\n",
       "                          Open      High       Low     Close\n",
       " Time                                                       \n",
       " 2022-03-22 00:00:00  0.964886  1.000000  1.000000  1.000000\n",
       " 2022-03-22 04:00:00  1.000000  0.992694  0.987719  0.964117\n",
       " 2022-03-22 08:00:00  0.964130  0.952306  0.982809  0.960330\n",
       " 2022-03-22 12:00:00  0.960345  0.946571  0.955896  0.925837\n",
       " 2022-03-22 16:00:00  0.926667  0.855880  0.909355  0.879021\n",
       " ...                       ...       ...       ...       ...\n",
       " 2023-03-21 00:00:00  0.637265  0.645317  0.640991  0.648857\n",
       " 2023-03-21 04:00:00  0.647816  0.656802  0.666209  0.685543\n",
       " 2023-03-21 08:00:00  0.685291  0.686933  0.689754  0.691519\n",
       " 2023-03-21 12:00:00  0.691265  0.764024  0.695096  0.771664\n",
       " 2023-03-21 16:00:00  0.771747  0.833371  0.778426  0.848797\n",
       " \n",
       " [2189 rows x 4 columns],\n",
       "                          Open      High       Low     Close\n",
       " Time                                                       \n",
       " 2022-03-22 00:00:00  0.148672  0.146554  0.123119  0.135272\n",
       " 2022-03-22 04:00:00  0.135595  0.130987  0.107996  0.112144\n",
       " 2022-03-22 08:00:00  0.112786  0.117620  0.088563  0.098441\n",
       " 2022-03-22 12:00:00  0.098515  0.108334  0.086325  0.116822\n",
       " 2022-03-22 16:00:00  0.117171  0.116070  0.091705  0.113960\n",
       " ...                       ...       ...       ...       ...\n",
       " 2023-03-21 00:00:00  0.988074  0.992175  0.986199  0.984085\n",
       " 2023-03-21 04:00:00  0.986371  0.986095  0.988059  0.983569\n",
       " 2023-03-21 08:00:00  0.985502  0.986031  0.988059  0.983668\n",
       " 2023-03-21 12:00:00  0.985929  0.998313  0.987235  0.995604\n",
       " 2023-03-21 16:00:00  0.997681  0.999694  1.000000  1.000000\n",
       " \n",
       " [2189 rows x 4 columns],\n",
       "                          Open      High       Low     Close\n",
       " Time                                                       \n",
       " 2022-03-22 00:00:00  0.471373  0.449817  0.543750  0.534035\n",
       " 2022-03-22 04:00:00  0.533613  0.509872  0.560383  0.577867\n",
       " 2022-03-22 08:00:00  0.576275  0.501350  0.600521  0.584160\n",
       " 2022-03-22 12:00:00  0.583295  0.605080  0.649296  0.682832\n",
       " 2022-03-22 16:00:00  0.682931  0.585734  0.719964  0.676834\n",
       " ...                       ...       ...       ...       ...\n",
       " 2023-03-21 00:00:00  0.160334  0.173689  0.224323  0.210347\n",
       " 2023-03-21 04:00:00  0.211145  0.172191  0.200742  0.178003\n",
       " 2023-03-21 08:00:00  0.177003  0.157279  0.188204  0.193943\n",
       " 2023-03-21 12:00:00  0.194024  0.176887  0.222998  0.206546\n",
       " 2023-03-21 16:00:00  0.206606  0.180279  0.228108  0.208008\n",
       " \n",
       " [2189 rows x 4 columns],\n",
       "                          Open      High       Low     Close\n",
       " Time                                                       \n",
       " 2022-03-22 00:00:00  0.415740  0.443194  0.484026  0.462814\n",
       " 2022-03-22 04:00:00  0.462062  0.340755  0.435866  0.429586\n",
       " 2022-03-22 08:00:00  0.427750  0.398103  0.461665  0.431778\n",
       " 2022-03-22 12:00:00  0.431050  0.451332  0.496140  0.467261\n",
       " 2022-03-22 16:00:00  0.467615  0.434951  0.470309  0.421869\n",
       " ...                       ...       ...       ...       ...\n",
       " 2023-03-21 00:00:00  0.781036  0.756358  0.850774  0.781538\n",
       " 2023-03-21 04:00:00  0.780575  0.741026  0.852310  0.783144\n",
       " 2023-03-21 08:00:00  0.783729  0.724667  0.834836  0.756297\n",
       " 2023-03-21 12:00:00  0.759114  0.711099  0.820237  0.754480\n",
       " 2023-03-21 16:00:00  0.754645  0.730547  0.818713  0.758028\n",
       " \n",
       " [2189 rows x 4 columns],\n",
       "                          Open      High       Low     Close\n",
       " Time                                                       \n",
       " 2022-03-22 00:00:00  0.274912  0.291724  0.259778  0.266115\n",
       " 2022-03-22 04:00:00  0.265127  0.281906  0.242586  0.266861\n",
       " 2022-03-22 08:00:00  0.265874  0.303572  0.259901  0.279114\n",
       " 2022-03-22 12:00:00  0.279868  0.284503  0.279486  0.287595\n",
       " 2022-03-22 16:00:00  0.285390  0.313618  0.285622  0.307367\n",
       " ...                       ...       ...       ...       ...\n",
       " 2023-03-21 00:00:00  0.599736  0.601581  0.602910  0.603896\n",
       " 2023-03-21 04:00:00  0.603226  0.599899  0.602673  0.610402\n",
       " 2023-03-21 08:00:00  0.609788  0.631505  0.616351  0.630558\n",
       " 2023-03-21 12:00:00  0.629914  0.644714  0.628094  0.636437\n",
       " 2023-03-21 16:00:00  0.635798  0.633280  0.636989  0.641865\n",
       " \n",
       " [2189 rows x 4 columns]]"
      ]
     },
     "execution_count": 6,
     "metadata": {},
     "output_type": "execute_result"
    }
   ],
   "source": [
    "dfs = [full_df[x['Currency1']] - full_df[x['Currency2']] * x['Ratio'] for __, x in td_view.iterrows()]\n",
    "dfs_fit = list()\n",
    "\n",
    "for df in dfs:\n",
    "    df[df.columns] = MinMaxScaler().fit_transform(df[df.columns])\n",
    "    dfs_fit.append(df)\n",
    "    \n",
    "dfs_fit"
   ]
  },
  {
   "cell_type": "code",
   "execution_count": null,
   "metadata": {},
   "outputs": [],
   "source": [
    "feeds = [bt.feeds.PandasData(dataname=df) for df in dfs_fit]\n",
    "# feed1 = bt.feeds.PandasData(dataname=df1, name='df1')\n"
   ]
  },
  {
   "cell_type": "code",
   "execution_count": null,
   "metadata": {},
   "outputs": [],
   "source": [
    "class Bband(bt.Strategy):\n",
    "\n",
    "    def __init__(self):\n",
    "        self.inds = dict()\n",
    "        self.pos = 0\n",
    "        \n",
    "        for i, d in enumerate(self.datas):\n",
    "            self.inds[d] = dict()\n",
    "            bb = bt.ind.BollingerBands(d.close, period=20, devfactor=2.0)\n",
    "            self.inds[d]['bb_upper'] = bb.lines.top\n",
    "            self.inds[d]['bb_middle'] = bb.lines.mid\n",
    "            self.inds[d]['bb_botton'] = bb.lines.bot\n",
    "\n",
    "            self.inds[d]['rsi'] = bt.ind.RSI(d.close)\n",
    "           \n",
    "            \n",
    "            # if i > 0: #Check we are not on the first loop of data feed:\n",
    "            #     if self.p.oneplot == True:\n",
    "            #         d.plotinfo.plotmaster = self.datas[0]\n",
    "                    \n",
    "                    \n",
    "            # bb = bt.ind.BollingerBands(period=20, devfactor=2.0)\n",
    "            # self.bb_upper = bb.lines.top\n",
    "            # self.bb_middle = bb.lines.mid\n",
    "            # self.bb_botton = bb.lines.bot\n",
    "\n",
    "            \n",
    "\n",
    "    def next(self):\n",
    "        #  for i, d in enumerate(self.datas):\n",
    "        # dt, dn = self.datetime.date(), d._name\n",
    "        # pos = self.getpos(d).size\n",
    "        # print('{} {} pos {}'.format(dt, dn, pos))\n",
    "        for i, d in enumerate(self.datas):\n",
    "            dt, dn = self.datetime.date(), d._name\n",
    "    \n",
    "            values = (d.high, d.low,\n",
    "                    d.close, d.open)\n",
    "            \n",
    "            max_value = max(*values)\n",
    "            min_value = min(*values)\n",
    "\n",
    "            if not self.pos and min_value < self.inds[d]['bb_botton'] and self.inds[d]['rsi'] < 30:\n",
    "                self.pos = 1\n",
    "                self.buy(data=d)  # enter long\n",
    "\n",
    "            elif self.pos == 1 and max_value > self.inds[d]['bb_middle']:\n",
    "                self.pos = 0\n",
    "                self.close(data=d)  # close long pos\n",
    "\n",
    "            if not self.pos and max_value > self.inds[d]['bb_upper'] and self.inds[d]['rsi'] > 70:\n",
    "                self.pos = -1\n",
    "                self.sell(data=d)  # enter short\n",
    "\n",
    "            elif self.pos == -1 and min_value < self.inds[d]['bb_middle']:\n",
    "                self.pos = 0\n",
    "                self.close(data=d)  # close short pos\n"
   ]
  },
  {
   "cell_type": "code",
   "execution_count": null,
   "metadata": {},
   "outputs": [
    {
     "data": {
      "text/plain": [
       "0"
      ]
     },
     "execution_count": 9,
     "metadata": {},
     "output_type": "execute_result"
    }
   ],
   "source": [
    "cerebro = bt.Cerebro()\n",
    "[cerebro.adddata(feed) for feed in feeds]\n",
    "cerebro.addstrategy(Bband)"
   ]
  },
  {
   "cell_type": "code",
   "execution_count": null,
   "metadata": {},
   "outputs": [],
   "source": [
    "cerebro.broker.setcommission(commission=0.0008)\n",
    "# cerebro.broker.setcommission(margin=True, commission=0.0008, leverage=20)\n",
    "cerebro.broker.set_cash(cash=1000)\n",
    "# cerebro.addsizer(bt.sizers.PercentSizer, percents=100)\n",
    "cerebro.addsizer(bt.sizers.FixedSize,stake=1000)"
   ]
  },
  {
   "cell_type": "code",
   "execution_count": null,
   "metadata": {},
   "outputs": [],
   "source": [
    "cerebro.addanalyzer(bt.analyzers.AnnualReturn, _name='areturn')\n",
    "cerebro.addanalyzer(bt.analyzers.Returns, _name='returns')\n",
    "cerebro.addanalyzer(bt.analyzers.DrawDown, _name='drawdown')\n",
    "cerebro.addanalyzer(bt.analyzers.SharpeRatio, _name='sharpe')\n"
   ]
  },
  {
   "cell_type": "code",
   "execution_count": null,
   "metadata": {},
   "outputs": [],
   "source": [
    "output = cerebro.run()"
   ]
  },
  {
   "cell_type": "code",
   "execution_count": null,
   "metadata": {},
   "outputs": [
    {
     "data": {
      "text/plain": [
       "[[<Figure size 640x480 with 20 Axes>]]"
      ]
     },
     "execution_count": 13,
     "metadata": {},
     "output_type": "execute_result"
    }
   ],
   "source": [
    "\n",
    "cerebro.plot(iplot=False, volume=False, )"
   ]
  },
  {
   "cell_type": "code",
   "execution_count": null,
   "metadata": {},
   "outputs": [
    {
     "data": {
      "text/plain": [
       "OrderedDict([(2022, 7.646993788353164), (2023, 0.3278524968921599)])"
      ]
     },
     "execution_count": 14,
     "metadata": {},
     "output_type": "execute_result"
    }
   ],
   "source": [
    "output[0].analyzers.areturn.get_analysis()"
   ]
  },
  {
   "cell_type": "code",
   "execution_count": null,
   "metadata": {},
   "outputs": [
    {
     "data": {
      "text/plain": [
       "OrderedDict([('rtot', 2.4407746948874163),\n",
       "             ('ravg', 0.006687053958595661),\n",
       "             ('rnorm', 4.39319297152337),\n",
       "             ('rnorm100', 439.319297152337)])"
      ]
     },
     "execution_count": 15,
     "metadata": {},
     "output_type": "execute_result"
    }
   ],
   "source": [
    "output[0].analyzers.returns.get_analysis()"
   ]
  },
  {
   "cell_type": "code",
   "execution_count": null,
   "metadata": {},
   "outputs": [
    {
     "data": {
      "text/plain": [
       "AutoOrderedDict([('len', 145),\n",
       "                 ('drawdown', 3.8764845021464036),\n",
       "                 ('moneydown', 463.04520133234655),\n",
       "                 ('max',\n",
       "                  AutoOrderedDict([('len', 1100),\n",
       "                                   ('drawdown', 108.75965565197002),\n",
       "                                   ('moneydown', 6184.713363687785)]))])"
      ]
     },
     "execution_count": 16,
     "metadata": {},
     "output_type": "execute_result"
    }
   ],
   "source": [
    "output[0].analyzers.drawdown.get_analysis()\n",
    "\n"
   ]
  },
  {
   "cell_type": "code",
   "execution_count": null,
   "metadata": {},
   "outputs": [
    {
     "data": {
      "text/plain": [
       "OrderedDict([('sharperatio', 1.0868551334739192)])"
      ]
     },
     "execution_count": 17,
     "metadata": {},
     "output_type": "execute_result"
    }
   ],
   "source": [
    "output[0].analyzers.sharpe.get_analysis()\n"
   ]
  }
 ],
 "metadata": {
  "kernelspec": {
   "display_name": "Python 3",
   "language": "python",
   "name": "python3"
  },
  "language_info": {
   "codemirror_mode": {
    "name": "ipython",
    "version": 3
   },
   "file_extension": ".py",
   "mimetype": "text/x-python",
   "name": "python",
   "nbconvert_exporter": "python",
   "pygments_lexer": "ipython3",
   "version": "3.8.10"
  },
  "orig_nbformat": 4,
  "vscode": {
   "interpreter": {
    "hash": "570feb405e2e27c949193ac68f46852414290d515b0ba6e5d90d076ed2284471"
   }
  }
 },
 "nbformat": 4,
 "nbformat_minor": 2
}
